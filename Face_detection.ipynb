{
 "cells": [
  {
   "cell_type": "code",
   "execution_count": 1,
   "metadata": {},
   "outputs": [],
   "source": [
    "import numpy as np\n",
    "import cv2\n",
    "import os\n",
    "import random\n",
    "import tensorflow as tf\n",
    "from tensorflow.keras.models import load_model\n",
    "from tensorflow.keras.preprocessing.image import ImageDataGenerator\n",
    "from tensorflow.keras.models import model_from_json\n",
    "from shutil import copyfile\n",
    "from tensorflow import keras\n",
    "from tensorflow.keras.preprocessing.image import ImageDataGenerator\n",
    "from tensorflow.keras.preprocessing import image\n",
    "import matplotlib.pyplot as plt"
   ]
  },
  {
   "cell_type": "code",
   "execution_count": 2,
   "metadata": {},
   "outputs": [],
   "source": [
    "path = r\"F:\\Deep Learning\\Facial Recognision\\haarcascade_frontalface_default.xml\""
   ]
  },
  {
   "cell_type": "code",
   "execution_count": 3,
   "metadata": {},
   "outputs": [],
   "source": [
    "face_cascade = cv2.CascadeClassifier(path)"
   ]
  },
  {
   "cell_type": "code",
   "execution_count": 4,
   "metadata": {},
   "outputs": [],
   "source": [
    "model = load_model(\"my_model.h5\")\n",
    "model.load_weights('fer1.h5')"
   ]
  },
  {
   "cell_type": "code",
   "execution_count": 5,
   "metadata": {},
   "outputs": [
    {
     "name": "stdout",
     "output_type": "stream",
     "text": [
      "Found 7067 images belonging to 6 classes.\n"
     ]
    }
   ],
   "source": [
    "datapath = r\"F:\\Deep Learning\\Facial Recognision\\Facial Recognesion\"\n",
    "train_datapath = r\"F:\\Deep Learning\\Facial Recognision\\Facial Recognesion\\Training\"\n",
    "validation_datapath = r\"F:\\Deep Learning\\Facial Recognision\\Facial Recognesion\\Testing\"\n",
    "validation_datagen = ImageDataGenerator(rescale = 1/255)\n",
    "validation_generator = validation_datagen.flow_from_directory(\n",
    "    validation_datapath , \n",
    "    batch_size = 32,\n",
    "    target_size = (48 , 48),\n",
    "    color_mode='grayscale',\n",
    "    class_mode = 'categorical'\n",
    ")"
   ]
  },
  {
   "cell_type": "code",
   "execution_count": 6,
   "metadata": {},
   "outputs": [],
   "source": [
    "from tensorflow.keras.optimizers import Adam , SGD\n",
    "opt = SGD(lr = 0.0001 , momentum=0.9 , decay = 1e-4/25)\n",
    "model.compile(loss = 'categorical_crossentropy' , optimizer = opt ,  \n",
    "             metrics = ['accuracy'])"
   ]
  },
  {
   "cell_type": "code",
   "execution_count": 7,
   "metadata": {},
   "outputs": [
    {
     "name": "stdout",
     "output_type": "stream",
     "text": [
      "WARNING:tensorflow:sample_weight modes were coerced from\n",
      "  ...\n",
      "    to  \n",
      "  ['...']\n",
      "221/221 - 17s - loss: 2.5427 - accuracy: 0.5749\n",
      "Restored model, accuracy: 57.49%\n"
     ]
    }
   ],
   "source": [
    "loss, acc = model.evaluate(validation_generator, verbose=2)\n",
    "print(\"Restored model, accuracy: {:5.2f}%\".format(100*acc))"
   ]
  },
  {
   "cell_type": "code",
   "execution_count": 8,
   "metadata": {},
   "outputs": [],
   "source": [
    "cap = cv2.VideoCapture(0)\n",
    "while True:\n",
    "    ret , img = cap.read()\n",
    "    if not ret:\n",
    "        continue\n",
    "    gray = cv2.cvtColor(img , cv2.COLOR_BGR2GRAY)\n",
    "    face = face_cascade.detectMultiScale(gray , 1.3  ,5)\n",
    "    for x,y,w,h in face:\n",
    "        cv2.rectangle(img , (x , y), (x+w , y+h) , (255 , 0, 0), 2)\n",
    "        croped_face = gray[y:y+h ,x:x+h]\n",
    "        croped_face = cv2.resize(croped_face , (48 , 48))\n",
    "        img_pixels = image.img_to_array(croped_face)\n",
    "        img_pixels = np.expand_dims(img_pixels, axis = 0)\n",
    "        img_pixels/=255\n",
    "        \n",
    "        predictions = model.predict(img_pixels)\n",
    "#         print(predictions)\n",
    "        max_index = np.argmax(predictions[0])\n",
    "        emotions = ('angry','fear', 'happy', 'neutral', 'sad', 'suprise')\n",
    "#         emotions = (\"संतप्त\",'भीती', 'आनंदी', 'तटस्थ', 'दु:खी', 'आश्चर्य')\n",
    "        predicted_emotion = emotions[max_index]\n",
    "\n",
    "        cv2.putText(img, predicted_emotion, (int(x), int(y)), cv2.FONT_HERSHEY_SIMPLEX, 1, (0,0,255), 2)\n",
    "     \n",
    "    resized_img = cv2.resize(img, (1000, 700))\n",
    "    cv2.imshow('Facial emotion analysis ',resized_img)\n",
    "    k = cv2.waitKey(30) & 0xff\n",
    "    if k == 27:\n",
    "        break\n",
    "        \n",
    "cap.release()\n",
    "cv2.destroyAllWindows()"
   ]
  }
 ],
 "metadata": {
  "kernelspec": {
   "display_name": "Python 3.7 (tf_gpu)",
   "language": "python",
   "name": "tensorflow"
  },
  "language_info": {
   "codemirror_mode": {
    "name": "ipython",
    "version": 3
   },
   "file_extension": ".py",
   "mimetype": "text/x-python",
   "name": "python",
   "nbconvert_exporter": "python",
   "pygments_lexer": "ipython3",
   "version": "3.7.7"
  }
 },
 "nbformat": 4,
 "nbformat_minor": 4
}
